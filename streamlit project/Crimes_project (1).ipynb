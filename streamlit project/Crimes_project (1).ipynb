{
  "cells": [
    {
      "cell_type": "markdown",
      "metadata": {
        "id": "6apGVff5h4ca"
      },
      "source": [
        "# Install Dependencies:\n",
        "\n",
        "\n",
        "1.   Java 8\n",
        "2.   Apache Spark with hadoop and\n",
        "3.   Findspark (used to locate the spark in the system)\n"
      ]
    },
    {
      "cell_type": "code",
      "execution_count": null,
      "metadata": {
        "id": "tt7ZS1_wGgjn"
      },
      "outputs": [],
      "source": [
        "!apt-get install openjdk-8-jdk-headless -qq > /dev/null\n",
        "!wget -q http://archive.apache.org/dist/spark/spark-3.1.1/spark-3.1.1-bin-hadoop3.2.tgz\n",
        "!tar xf spark-3.1.1-bin-hadoop3.2.tgz\n",
        "!pip install -q findspark"
      ]
    },
    {
      "cell_type": "markdown",
      "metadata": {
        "id": "C3x0ZRLxjMVr"
      },
      "source": [
        "Set Environment Variables:"
      ]
    },
    {
      "cell_type": "code",
      "execution_count": null,
      "metadata": {
        "id": "sdOOq4twHN1K"
      },
      "outputs": [],
      "source": [
        "import os\n",
        "os.environ[\"JAVA_HOME\"] = \"/usr/lib/jvm/java-8-openjdk-amd64\"\n",
        "os.environ[\"SPARK_HOME\"] = \"/content/spark-3.1.1-bin-hadoop3.2\""
      ]
    },
    {
      "cell_type": "code",
      "execution_count": null,
      "metadata": {
        "colab": {
          "base_uri": "https://localhost:8080/",
          "height": 219
        },
        "id": "KR1zLBk1998Z",
        "outputId": "a839a35c-5f06-4778-9a41-a1bb08a4dd87"
      },
      "outputs": [
        {
          "output_type": "execute_result",
          "data": {
            "text/plain": [
              "<pyspark.sql.session.SparkSession at 0x7f58701647c0>"
            ],
            "text/html": [
              "\n",
              "            <div>\n",
              "                <p><b>SparkSession - in-memory</b></p>\n",
              "                \n",
              "        <div>\n",
              "            <p><b>SparkContext</b></p>\n",
              "\n",
              "            <p><a href=\"http://984d65d181d3:4040\">Spark UI</a></p>\n",
              "\n",
              "            <dl>\n",
              "              <dt>Version</dt>\n",
              "                <dd><code>v3.1.1</code></dd>\n",
              "              <dt>Master</dt>\n",
              "                <dd><code>local[*]</code></dd>\n",
              "              <dt>AppName</dt>\n",
              "                <dd><code>pyspark-shell</code></dd>\n",
              "            </dl>\n",
              "        </div>\n",
              "        \n",
              "            </div>\n",
              "        "
            ]
          },
          "metadata": {},
          "execution_count": 3
        }
      ],
      "source": [
        "import findspark\n",
        "findspark.init()\n",
        "from pyspark.sql import SparkSession\n",
        "spark = SparkSession.builder.master(\"local[*]\").getOrCreate()\n",
        "spark.conf.set(\"spark.sql.repl.eagerEval.enabled\", True) # Property used to format output tables better\n",
        "spark"
      ]
    },
    {
      "cell_type": "markdown",
      "metadata": {
        "id": "hmIqq6xPK7m7"
      },
      "source": [
        "<a id='exploring-the-dataset'></a>\n",
        "## Exploring the Datasets"
      ]
    },
    {
      "cell_type": "markdown",
      "metadata": {
        "id": "VZwsr57lwPgq"
      },
      "source": [
        "<a id='loading-the-dataset'></a>\n",
        "<a id='categories-dataset'></a>\n",
        "### Loading the Dataset Categories"
      ]
    },
    {
      "cell_type": "code",
      "execution_count": null,
      "metadata": {
        "colab": {
          "base_uri": "https://localhost:8080/"
        },
        "id": "ShDx4UdfhXJJ",
        "outputId": "c7fe0a8f-3ac6-4969-83df-3552959751ad"
      },
      "outputs": [
        {
          "output_type": "stream",
          "name": "stdout",
          "text": [
            "+--------+-------+--------------------+------------+\n",
            "|UCR_CODE|UCR_EXT|             OFFENCE|MCI_CATEGORY|\n",
            "+--------+-------+--------------------+------------+\n",
            "|    1480|    110|Administering Nox...|     Assault|\n",
            "|    1462|    100|Aggravated Aslt P...|     Assault|\n",
            "|    1410|    100|  Aggravated Assault|     Assault|\n",
            "|    1410|    110|Aggravated Assaul...|     Assault|\n",
            "|    1450|    110|Air Gun Or Pistol...|     Assault|\n",
            "+--------+-------+--------------------+------------+\n",
            "only showing top 5 rows\n",
            "\n"
          ]
        }
      ],
      "source": [
        "# Load data\n",
        "categories = spark.read.csv('/content/Categories.csv', header=True, sep=\",\",inferSchema=True)\n",
        "categories.show(5)"
      ]
    },
    {
      "cell_type": "markdown",
      "metadata": {
        "id": "u6zsOL2am61O"
      },
      "source": [
        "### Basic Explorations on Categories(columns, rows, and info)"
      ]
    },
    {
      "cell_type": "code",
      "execution_count": null,
      "metadata": {
        "colab": {
          "base_uri": "https://localhost:8080/"
        },
        "id": "5XROhvfim0x3",
        "outputId": "04a69b36-bee4-41a2-89f9-eea9110468ae"
      },
      "outputs": [
        {
          "output_type": "execute_result",
          "data": {
            "text/plain": [
              "['UCR_CODE', 'UCR_EXT', 'OFFENCE', 'MCI_CATEGORY']"
            ]
          },
          "metadata": {},
          "execution_count": 7
        }
      ],
      "source": [
        "# show the list of columns\n",
        "categories.columns"
      ]
    },
    {
      "cell_type": "code",
      "execution_count": null,
      "metadata": {
        "colab": {
          "base_uri": "https://localhost:8080/"
        },
        "id": "Vs5eyKPznWx7",
        "outputId": "33075d37-7db6-4cc9-abab-4395338e3cd7"
      },
      "outputs": [
        {
          "output_type": "stream",
          "name": "stdout",
          "text": [
            "root\n",
            " |-- UCR_CODE: integer (nullable = true)\n",
            " |-- UCR_EXT: integer (nullable = true)\n",
            " |-- OFFENCE: string (nullable = true)\n",
            " |-- MCI_CATEGORY: string (nullable = true)\n",
            "\n"
          ]
        }
      ],
      "source": [
        "#using printSchema()\n",
        "categories.printSchema()\n"
      ]
    },
    {
      "cell_type": "code",
      "execution_count": null,
      "metadata": {
        "colab": {
          "base_uri": "https://localhost:8080/"
        },
        "id": "waXw3dNnoNwW",
        "outputId": "a6f0b081-b7ac-4258-fbdf-7c698fc6f7e0"
      },
      "outputs": [
        {
          "output_type": "stream",
          "name": "stdout",
          "text": [
            "Shape of DataFrame: (51,4)\n"
          ]
        }
      ],
      "source": [
        "# count the number of rows in the DataFrame\n",
        "num_rows = categories.count()\n",
        "\n",
        "# count the number of columns in the DataFrame\n",
        "num_cols = len(categories.columns)\n",
        "\n",
        "# print the shape of the DataFrame\n",
        "print(\"Shape of DataFrame: ({},{})\".format(num_rows, num_cols))"
      ]
    },
    {
      "cell_type": "code",
      "execution_count": null,
      "metadata": {
        "colab": {
          "base_uri": "https://localhost:8080/"
        },
        "id": "rUZpG4yKp399",
        "outputId": "10204ef8-5cbf-48e7-a0f4-302e9c31c1d0"
      },
      "outputs": [
        {
          "output_type": "stream",
          "name": "stdout",
          "text": [
            "+--------+-------+-------+------------+\n",
            "|UCR_CODE|UCR_EXT|OFFENCE|MCI_CATEGORY|\n",
            "+--------+-------+-------+------------+\n",
            "|       0|      0|      0|           0|\n",
            "+--------+-------+-------+------------+\n",
            "\n"
          ]
        }
      ],
      "source": [
        "from pyspark.sql.functions import count, when, col\n",
        "\n",
        "# check for null values in all columns\n",
        "categories.select([count(when(col(c).isNull(), c)).alias(c) for c in categories.columns]).show()\n"
      ]
    },
    {
      "cell_type": "markdown",
      "metadata": {
        "id": "r2A6x1UqrkR5"
      },
      "source": [
        "<a id='loading-the-dataset'></a>\n",
        "<a id='categories-dataset'></a>\n",
        "### Loading the Dataset Neighborhood"
      ]
    },
    {
      "cell_type": "code",
      "execution_count": null,
      "metadata": {
        "colab": {
          "base_uri": "https://localhost:8080/"
        },
        "id": "snYLSdX8rkR6",
        "outputId": "b78543d2-5e7f-4e24-cbd8-34387a732424"
      },
      "outputs": [
        {
          "output_type": "stream",
          "name": "stdout",
          "text": [
            "+--------+--------------------+---------------+--------------+\n",
            "|HOOD_158|   NEIGHBOURHOOD_158|HOOD_LONG_WGS84|HOOD_LAT_WGS84|\n",
            "+--------+--------------------+---------------+--------------+\n",
            "|       1|West Humber-Clair...|   -79.59686886|   43.72084053|\n",
            "|      10|  Princess-Rosethorn|   -79.54710872|   43.66879011|\n",
            "|     100|      Yonge-Eglinton|   -79.40118196|    43.7052197|\n",
            "|     101|   Forest Hill South|   -79.41581235|   43.69408893|\n",
            "|     102|   Forest Hill North|   -79.42831864|   43.70341119|\n",
            "+--------+--------------------+---------------+--------------+\n",
            "only showing top 5 rows\n",
            "\n"
          ]
        }
      ],
      "source": [
        "# Load data\n",
        "hood = spark.read.csv('/content/Neighborhood.csv', header=True, sep=\",\",inferSchema=True)\n",
        "hood.show(5)"
      ]
    },
    {
      "cell_type": "markdown",
      "metadata": {
        "id": "gKea9HCLrkR7"
      },
      "source": [
        "### Basic Explorations Neighborhood (columns, rows, and info)"
      ]
    },
    {
      "cell_type": "code",
      "execution_count": null,
      "metadata": {
        "colab": {
          "base_uri": "https://localhost:8080/"
        },
        "id": "_p3BzZZ-rkR7",
        "outputId": "4377da0e-e055-4002-973f-7997dbb336be"
      },
      "outputs": [
        {
          "data": {
            "text/plain": [
              "['HOOD_158', 'NEIGHBOURHOOD_158', 'HOOD_LONG_WGS84', 'HOOD_LAT_WGS84']"
            ]
          },
          "execution_count": 18,
          "metadata": {},
          "output_type": "execute_result"
        }
      ],
      "source": [
        "# show the list of columns\n",
        "hood.columns"
      ]
    },
    {
      "cell_type": "code",
      "execution_count": null,
      "metadata": {
        "colab": {
          "base_uri": "https://localhost:8080/"
        },
        "id": "rOqswDchrkR7",
        "outputId": "10bf5665-9fb5-4f18-9a7d-b1f3fa2f9044"
      },
      "outputs": [
        {
          "name": "stdout",
          "output_type": "stream",
          "text": [
            "root\n",
            " |-- HOOD_158: integer (nullable = true)\n",
            " |-- NEIGHBOURHOOD_158: string (nullable = true)\n",
            " |-- HOOD_LONG_WGS84: double (nullable = true)\n",
            " |-- HOOD_LAT_WGS84: double (nullable = true)\n",
            "\n"
          ]
        }
      ],
      "source": [
        "#using printSchema()\n",
        "hood.printSchema()\n"
      ]
    },
    {
      "cell_type": "code",
      "execution_count": null,
      "metadata": {
        "colab": {
          "base_uri": "https://localhost:8080/"
        },
        "id": "WoRGlj7brkR8",
        "outputId": "0101aae5-7948-42d7-9216-342cbbf1a52d"
      },
      "outputs": [
        {
          "output_type": "stream",
          "name": "stdout",
          "text": [
            "Shape of DataFrame: (158,4)\n"
          ]
        }
      ],
      "source": [
        "# count the number of rows in the DataFrame\n",
        "num_rows = hood.count()\n",
        "\n",
        "# count the number of columns in the DataFrame\n",
        "num_cols = len(hood.columns)\n",
        "\n",
        "# print the shape of the DataFrame\n",
        "print(\"Shape of DataFrame: ({},{})\".format(num_rows, num_cols))"
      ]
    },
    {
      "cell_type": "code",
      "execution_count": null,
      "metadata": {
        "colab": {
          "base_uri": "https://localhost:8080/"
        },
        "id": "BHowCc0_rkR9",
        "outputId": "8aeeec95-4236-4f0d-ba1c-b9e902acd457"
      },
      "outputs": [
        {
          "output_type": "stream",
          "name": "stdout",
          "text": [
            "+--------+-----------------+---------------+--------------+\n",
            "|HOOD_158|NEIGHBOURHOOD_158|HOOD_LONG_WGS84|HOOD_LAT_WGS84|\n",
            "+--------+-----------------+---------------+--------------+\n",
            "|       0|                0|              0|             0|\n",
            "+--------+-----------------+---------------+--------------+\n",
            "\n"
          ]
        }
      ],
      "source": [
        "from pyspark.sql.functions import count, when, col\n",
        "\n",
        "# check for null values in all columns\n",
        "hood.select([count(when(col(c).isNull(), c)).alias(c) for c in hood.columns]).show()\n"
      ]
    },
    {
      "cell_type": "code",
      "execution_count": null,
      "metadata": {
        "colab": {
          "base_uri": "https://localhost:8080/"
        },
        "id": "xzzKwrYaRZ4p",
        "outputId": "d70883f1-f34e-44d8-9106-758f288d878e"
      },
      "outputs": [
        {
          "output_type": "stream",
          "name": "stdout",
          "text": [
            "Number of duplicates:  0\n"
          ]
        }
      ],
      "source": [
        "# Count duplicates\n",
        "dup_count = hood.groupBy(hood.columns).count().filter(\"count > 1\").count()\n",
        "\n",
        "print(\"Number of duplicates: \", dup_count)"
      ]
    },
    {
      "cell_type": "markdown",
      "metadata": {
        "id": "PffMpD4As4SJ"
      },
      "source": [
        "<a id='loading-the-dataset'></a>\n",
        "<a id='categories-dataset'></a>\n",
        "### Loading the Dataset Premisses"
      ]
    },
    {
      "cell_type": "code",
      "execution_count": null,
      "metadata": {
        "colab": {
          "base_uri": "https://localhost:8080/"
        },
        "id": "sKBPPjCAs4SJ",
        "outputId": "cd58c6f3-1017-4cc7-d4c8-32664906f28e"
      },
      "outputs": [
        {
          "output_type": "stream",
          "name": "stdout",
          "text": [
            "+-----------+-------------+--------------------+\n",
            "|LOCATION_ID|PREMISES_TYPE|       LOCATION_TYPE|\n",
            "+-----------+-------------+--------------------+\n",
            "|        A-1|    Apartment|Apartment Rooming...|\n",
            "|        C-1|   Commercial|Bank And Other Fi...|\n",
            "|        C-2|   Commercial|    Baror Restaurant|\n",
            "|        C-3|   Commercial|Commercial Dwelli...|\n",
            "|        C-4|   Commercial|Construction Site...|\n",
            "+-----------+-------------+--------------------+\n",
            "only showing top 5 rows\n",
            "\n"
          ]
        }
      ],
      "source": [
        "# Load data\n",
        "premisses = spark.read.csv('/content/Premisses.csv', header=True, sep=\",\",inferSchema=True)\n",
        "premisses.show(5)"
      ]
    },
    {
      "cell_type": "markdown",
      "metadata": {
        "id": "kd4-aU6ps4SK"
      },
      "source": [
        "### Basic Explorations on Premisses (columns, rows, and info)"
      ]
    },
    {
      "cell_type": "code",
      "execution_count": null,
      "metadata": {
        "colab": {
          "base_uri": "https://localhost:8080/"
        },
        "id": "lAQkOMpFs4SK",
        "outputId": "80cfa3f4-b5af-4475-e9cb-9efa19eb1ded"
      },
      "outputs": [
        {
          "output_type": "execute_result",
          "data": {
            "text/plain": [
              "['LOCATION_ID', 'PREMISES_TYPE', 'LOCATION_TYPE']"
            ]
          },
          "metadata": {},
          "execution_count": 16
        }
      ],
      "source": [
        "# show the list of columns\n",
        "premisses.columns"
      ]
    },
    {
      "cell_type": "code",
      "execution_count": null,
      "metadata": {
        "colab": {
          "base_uri": "https://localhost:8080/"
        },
        "id": "l-vrLC1Ks4SL",
        "outputId": "ef645350-a180-45a5-b1cd-508a725cf0a4"
      },
      "outputs": [
        {
          "output_type": "stream",
          "name": "stdout",
          "text": [
            "root\n",
            " |-- LOCATION_ID: string (nullable = true)\n",
            " |-- PREMISES_TYPE: string (nullable = true)\n",
            " |-- LOCATION_TYPE: string (nullable = true)\n",
            "\n"
          ]
        }
      ],
      "source": [
        "#using printSchema()\n",
        "premisses.printSchema()\n"
      ]
    },
    {
      "cell_type": "code",
      "execution_count": null,
      "metadata": {
        "colab": {
          "base_uri": "https://localhost:8080/"
        },
        "id": "OUkFKU44s4SL",
        "outputId": "55491031-6a02-44a9-98e3-e4f53dba0bb3"
      },
      "outputs": [
        {
          "output_type": "stream",
          "name": "stdout",
          "text": [
            "Shape of DataFrame: (52,3)\n"
          ]
        }
      ],
      "source": [
        "# count the number of rows in the DataFrame\n",
        "num_rows = premisses.count()\n",
        "\n",
        "# count the number of columns in the DataFrame\n",
        "num_cols = len(premisses.columns)\n",
        "\n",
        "# print the shape of the DataFrame\n",
        "print(\"Shape of DataFrame: ({},{})\".format(num_rows, num_cols))"
      ]
    },
    {
      "cell_type": "code",
      "execution_count": null,
      "metadata": {
        "colab": {
          "base_uri": "https://localhost:8080/"
        },
        "id": "6X7PA48ks4SL",
        "outputId": "12afcb46-0ea9-4573-dbf9-af43e84481aa"
      },
      "outputs": [
        {
          "output_type": "stream",
          "name": "stdout",
          "text": [
            "+-----------+-------------+-------------+\n",
            "|LOCATION_ID|PREMISES_TYPE|LOCATION_TYPE|\n",
            "+-----------+-------------+-------------+\n",
            "|          0|            0|            0|\n",
            "+-----------+-------------+-------------+\n",
            "\n"
          ]
        }
      ],
      "source": [
        "from pyspark.sql.functions import count, when, col\n",
        "\n",
        "# check for null values in all columns\n",
        "premisses.select([count(when(col(c).isNull(), c)).alias(c) for c in premisses.columns]).show()\n"
      ]
    },
    {
      "cell_type": "code",
      "execution_count": null,
      "metadata": {
        "colab": {
          "base_uri": "https://localhost:8080/"
        },
        "id": "InJMR3w4Rvcu",
        "outputId": "2a3234e3-8569-4f7b-9da7-2493c19a4312"
      },
      "outputs": [
        {
          "output_type": "stream",
          "name": "stdout",
          "text": [
            "Number of duplicates:  0\n"
          ]
        }
      ],
      "source": [
        "# Count duplicates\n",
        "dup_count = premisses.groupBy(premisses.columns).count().filter(\"count > 1\").count()\n",
        "\n",
        "print(\"Number of duplicates: \", dup_count)"
      ]
    },
    {
      "cell_type": "markdown",
      "metadata": {
        "id": "wkK0tS12wF2K"
      },
      "source": [
        "<a id='loading-the-dataset'></a>\n",
        "<a id='categories-dataset'></a>\n",
        "### Loading the Dataset Incidents"
      ]
    },
    {
      "cell_type": "code",
      "execution_count": null,
      "metadata": {
        "colab": {
          "base_uri": "https://localhost:8080/"
        },
        "id": "f622xqP8wF2K",
        "outputId": "0e78297d-8f7d-40aa-c146-2254dd7f9574"
      },
      "outputs": [
        {
          "output_type": "stream",
          "name": "stdout",
          "text": [
            "+---------+---------------+-----------+--------+--------+-----------+--------+-------+--------+\n",
            "|OBJECT_ID|EVENT_UNIQUE_ID|REPORT_DATE|OCC_DATE|DIVISION|PRESMISE_ID|UCR_CODE|UCR_EXT|HOOD_158|\n",
            "+---------+---------------+-----------+--------+--------+-----------+--------+-------+--------+\n",
            "|        1| GO-20141262074|   1/1/2014|6/1/1998|     D32|        A-1|    1480|    110|      38|\n",
            "|        2| GO-20141260701|   1/1/2014|1/1/2014|     D51|        C-3|    2120|    200|      70|\n",
            "|        3| GO-20141260889|   1/1/2014|1/1/2014|     D51|        A-1|    1430|    100|      74|\n",
            "|        4| GO-20141261050|   1/1/2014|1/1/2014|     D54|       OU-3|    1430|    100|      69|\n",
            "|        5| GO-20141259344|   1/1/2014|1/1/2014|     D52|        C-2|    1420|    110|     164|\n",
            "+---------+---------------+-----------+--------+--------+-----------+--------+-------+--------+\n",
            "only showing top 5 rows\n",
            "\n"
          ]
        }
      ],
      "source": [
        "# Load data\n",
        "incidents = spark.read.csv('/content/v3offences.csv', header=True, sep=\",\",inferSchema=True)\n",
        "incidents.show(5)"
      ]
    },
    {
      "cell_type": "markdown",
      "metadata": {
        "id": "ZfTTaEJKwF2L"
      },
      "source": [
        "### Basic Explorations on Incidents (columns, rows, and info)"
      ]
    },
    {
      "cell_type": "code",
      "execution_count": null,
      "metadata": {
        "colab": {
          "base_uri": "https://localhost:8080/"
        },
        "id": "Owbc49i0wF2M",
        "outputId": "7b1f2aa3-26ad-49a0-ed13-9ee5a91aa695"
      },
      "outputs": [
        {
          "output_type": "execute_result",
          "data": {
            "text/plain": [
              "['OBJECT_ID',\n",
              " 'EVENT_UNIQUE_ID',\n",
              " 'REPORT_DATE',\n",
              " 'OCC_DATE',\n",
              " 'DIVISION',\n",
              " 'PRESMISE_ID',\n",
              " 'UCR_CODE',\n",
              " 'UCR_EXT',\n",
              " 'HOOD_158']"
            ]
          },
          "metadata": {},
          "execution_count": 22
        }
      ],
      "source": [
        "# show the list of columns\n",
        "incidents.columns"
      ]
    },
    {
      "cell_type": "code",
      "execution_count": null,
      "metadata": {
        "colab": {
          "base_uri": "https://localhost:8080/"
        },
        "id": "rhBGbeOTwF2N",
        "outputId": "26400312-0f46-4814-c423-f23b20eba107"
      },
      "outputs": [
        {
          "output_type": "stream",
          "name": "stdout",
          "text": [
            "root\n",
            " |-- OBJECT_ID: integer (nullable = true)\n",
            " |-- EVENT_UNIQUE_ID: string (nullable = true)\n",
            " |-- REPORT_DATE: string (nullable = true)\n",
            " |-- OCC_DATE: string (nullable = true)\n",
            " |-- DIVISION: string (nullable = true)\n",
            " |-- PRESMISE_ID: string (nullable = true)\n",
            " |-- UCR_CODE: integer (nullable = true)\n",
            " |-- UCR_EXT: integer (nullable = true)\n",
            " |-- HOOD_158: integer (nullable = true)\n",
            "\n"
          ]
        }
      ],
      "source": [
        "#using printSchema()\n",
        "incidents.printSchema()\n"
      ]
    },
    {
      "cell_type": "code",
      "execution_count": null,
      "metadata": {
        "id": "cORo1xmx_rvX"
      },
      "outputs": [],
      "source": [
        "  # change the date type from string to data\n",
        "from pyspark.sql.functions import to_date\n",
        "\n",
        "incidents = incidents.withColumn(\"REPORT_DATE\", to_date(\"REPORT_DATE\", 'M/d/y')) \\\n",
        "                     .withColumn(\"OCC_DATE\", to_date(\"OCC_DATE\", 'M/d/y'))\n",
        "\n"
      ]
    },
    {
      "cell_type": "code",
      "execution_count": null,
      "metadata": {
        "id": "jqvWjmSSAS_e"
      },
      "outputs": [],
      "source": [
        "# from pyspark.sql.functions import to_timestamp\n",
        "\n",
        "# formatted_incidents = incidents \\\n",
        "#     .withColumn('REPORT_DATE', to_timestamp('REPORT_DATE', 'yyyy/MM/dd HH:mm:ssX')) \\\n",
        "#     .withColumn('OCC_DATE', to_timestamp('OCC_DATE', 'yyyy/MM/dd HH:mm:ssX'))\n",
        "\n",
        "# incidents = formatted_incidents\n"
      ]
    },
    {
      "cell_type": "code",
      "execution_count": null,
      "metadata": {
        "colab": {
          "base_uri": "https://localhost:8080/"
        },
        "id": "5ZKLqFpfAASD",
        "outputId": "f291963a-c611-4baf-c4b2-c914342b53ae"
      },
      "outputs": [
        {
          "output_type": "stream",
          "name": "stdout",
          "text": [
            "root\n",
            " |-- OBJECT_ID: integer (nullable = true)\n",
            " |-- EVENT_UNIQUE_ID: string (nullable = true)\n",
            " |-- REPORT_DATE: date (nullable = true)\n",
            " |-- OCC_DATE: date (nullable = true)\n",
            " |-- DIVISION: string (nullable = true)\n",
            " |-- PRESMISE_ID: string (nullable = true)\n",
            " |-- UCR_CODE: integer (nullable = true)\n",
            " |-- UCR_EXT: integer (nullable = true)\n",
            " |-- HOOD_158: integer (nullable = true)\n",
            "\n"
          ]
        }
      ],
      "source": [
        "#using printSchema()\n",
        "incidents.printSchema()\n"
      ]
    },
    {
      "cell_type": "code",
      "execution_count": null,
      "metadata": {
        "colab": {
          "base_uri": "https://localhost:8080/"
        },
        "id": "XPBvU_vZyHtd",
        "outputId": "6e3542af-35bb-4b11-f155-023560357c40"
      },
      "outputs": [
        {
          "output_type": "stream",
          "name": "stdout",
          "text": [
            "+---------+---------------+-----------+----------+--------+-----------+--------+-------+--------+\n",
            "|OBJECT_ID|EVENT_UNIQUE_ID|REPORT_DATE|  OCC_DATE|DIVISION|PRESMISE_ID|UCR_CODE|UCR_EXT|HOOD_158|\n",
            "+---------+---------------+-----------+----------+--------+-----------+--------+-------+--------+\n",
            "|        1| GO-20141262074| 2014-01-01|1998-06-01|     D32|        A-1|    1480|    110|      38|\n",
            "|        2| GO-20141260701| 2014-01-01|2014-01-01|     D51|        C-3|    2120|    200|      70|\n",
            "|        3| GO-20141260889| 2014-01-01|2014-01-01|     D51|        A-1|    1430|    100|      74|\n",
            "|        4| GO-20141261050| 2014-01-01|2014-01-01|     D54|       OU-3|    1430|    100|      69|\n",
            "|        5| GO-20141259344| 2014-01-01|2014-01-01|     D52|        C-2|    1420|    110|     164|\n",
            "+---------+---------------+-----------+----------+--------+-----------+--------+-------+--------+\n",
            "only showing top 5 rows\n",
            "\n"
          ]
        }
      ],
      "source": [
        "incidents.show(5)"
      ]
    },
    {
      "cell_type": "code",
      "execution_count": null,
      "metadata": {
        "colab": {
          "base_uri": "https://localhost:8080/"
        },
        "id": "sYLTL8TIwF2N",
        "outputId": "2de055ba-8601-41ea-c7b1-af83bcadc32b"
      },
      "outputs": [
        {
          "output_type": "stream",
          "name": "stdout",
          "text": [
            "Shape of DataFrame: (294976,9)\n"
          ]
        }
      ],
      "source": [
        "# count the number of rows in the DataFrame\n",
        "num_rows = incidents.count()\n",
        "\n",
        "# count the number of columns in the DataFrame\n",
        "num_cols = len(incidents.columns)\n",
        "\n",
        "# print the shape of the DataFrame\n",
        "print(\"Shape of DataFrame: ({},{})\".format(num_rows, num_cols))"
      ]
    },
    {
      "cell_type": "code",
      "execution_count": null,
      "metadata": {
        "colab": {
          "base_uri": "https://localhost:8080/"
        },
        "id": "LvpR2izmwF2O",
        "outputId": "1086f695-646f-4f7f-b596-010ab21d12cc"
      },
      "outputs": [
        {
          "output_type": "stream",
          "name": "stdout",
          "text": [
            "+-----------+-------------+-------------+\n",
            "|LOCATION_ID|PREMISES_TYPE|LOCATION_TYPE|\n",
            "+-----------+-------------+-------------+\n",
            "|          0|            0|            0|\n",
            "+-----------+-------------+-------------+\n",
            "\n"
          ]
        }
      ],
      "source": [
        "from pyspark.sql.functions import count, when, col\n",
        "\n",
        "# check for null values in all columns\n",
        "premisses.select([count(when(col(c).isNull(), c)).alias(c) for c in premisses.columns]).show()\n"
      ]
    },
    {
      "cell_type": "code",
      "execution_count": null,
      "metadata": {
        "colab": {
          "base_uri": "https://localhost:8080/"
        },
        "id": "atFMFvG8R4Sn",
        "outputId": "2640cfe4-b20b-4b36-d862-60e4305e5a16"
      },
      "outputs": [
        {
          "output_type": "stream",
          "name": "stdout",
          "text": [
            "Number of duplicates:  0\n"
          ]
        }
      ],
      "source": [
        "# Count duplicates\n",
        "dup_count = incidents.groupBy(incidents.columns).count().filter(\"count > 1\").count()\n",
        "\n",
        "print(\"Number of duplicates: \", dup_count)"
      ]
    },
    {
      "cell_type": "markdown",
      "metadata": {
        "id": "6IVzBP_lbAqU"
      },
      "source": [
        "## BOXplots"
      ]
    },
    {
      "cell_type": "code",
      "execution_count": null,
      "metadata": {
        "id": "HxkEtTNYhqBl",
        "colab": {
          "base_uri": "https://localhost:8080/",
          "height": 395
        },
        "outputId": "7a04d305-cdc1-414e-caca-0a37d09c7623"
      },
      "outputs": [
        {
          "output_type": "error",
          "ename": "AnalysisException",
          "evalue": "ignored",
          "traceback": [
            "\u001b[0;31m---------------------------------------------------------------------------\u001b[0m",
            "\u001b[0;31mAnalysisException\u001b[0m                         Traceback (most recent call last)",
            "\u001b[0;32m<ipython-input-32-d7ee04399aa2>\u001b[0m in \u001b[0;36m<cell line: 9>\u001b[0;34m()\u001b[0m\n\u001b[1;32m      7\u001b[0m \u001b[0;34m\u001b[0m\u001b[0m\n\u001b[1;32m      8\u001b[0m \u001b[0;31m# load data from csv files into dataframes\u001b[0m\u001b[0;34m\u001b[0m\u001b[0;34m\u001b[0m\u001b[0m\n\u001b[0;32m----> 9\u001b[0;31m \u001b[0moffences_df\u001b[0m \u001b[0;34m=\u001b[0m \u001b[0mspark\u001b[0m\u001b[0;34m.\u001b[0m\u001b[0mread\u001b[0m\u001b[0;34m.\u001b[0m\u001b[0moption\u001b[0m\u001b[0;34m(\u001b[0m\u001b[0;34m\"header\"\u001b[0m\u001b[0;34m,\u001b[0m \u001b[0;34m\"true\"\u001b[0m\u001b[0;34m)\u001b[0m\u001b[0;34m.\u001b[0m\u001b[0mcsv\u001b[0m\u001b[0;34m(\u001b[0m\u001b[0;34m\"path/to/offences.csv\"\u001b[0m\u001b[0;34m)\u001b[0m\u001b[0;34m\u001b[0m\u001b[0;34m\u001b[0m\u001b[0m\n\u001b[0m\u001b[1;32m     10\u001b[0m \u001b[0mhoods_df\u001b[0m \u001b[0;34m=\u001b[0m \u001b[0mspark\u001b[0m\u001b[0;34m.\u001b[0m\u001b[0mread\u001b[0m\u001b[0;34m.\u001b[0m\u001b[0moption\u001b[0m\u001b[0;34m(\u001b[0m\u001b[0;34m\"header\"\u001b[0m\u001b[0;34m,\u001b[0m \u001b[0;34m\"true\"\u001b[0m\u001b[0;34m)\u001b[0m\u001b[0;34m.\u001b[0m\u001b[0mcsv\u001b[0m\u001b[0;34m(\u001b[0m\u001b[0;34m\"path/to/hoods.csv\"\u001b[0m\u001b[0;34m)\u001b[0m\u001b[0;34m\u001b[0m\u001b[0;34m\u001b[0m\u001b[0m\n\u001b[1;32m     11\u001b[0m \u001b[0mlocations_df\u001b[0m \u001b[0;34m=\u001b[0m \u001b[0mspark\u001b[0m\u001b[0;34m.\u001b[0m\u001b[0mread\u001b[0m\u001b[0;34m.\u001b[0m\u001b[0moption\u001b[0m\u001b[0;34m(\u001b[0m\u001b[0;34m\"header\"\u001b[0m\u001b[0;34m,\u001b[0m \u001b[0;34m\"true\"\u001b[0m\u001b[0;34m)\u001b[0m\u001b[0;34m.\u001b[0m\u001b[0mcsv\u001b[0m\u001b[0;34m(\u001b[0m\u001b[0;34m\"path/to/locations.csv\"\u001b[0m\u001b[0;34m)\u001b[0m\u001b[0;34m\u001b[0m\u001b[0;34m\u001b[0m\u001b[0m\n",
            "\u001b[0;32m/content/spark-3.1.1-bin-hadoop3.2/python/pyspark/sql/readwriter.py\u001b[0m in \u001b[0;36mcsv\u001b[0;34m(self, path, schema, sep, encoding, quote, escape, comment, header, inferSchema, ignoreLeadingWhiteSpace, ignoreTrailingWhiteSpace, nullValue, nanValue, positiveInf, negativeInf, dateFormat, timestampFormat, maxColumns, maxCharsPerColumn, maxMalformedLogPerPartition, mode, columnNameOfCorruptRecord, multiLine, charToEscapeQuoteEscaping, samplingRatio, enforceSchema, emptyValue, locale, lineSep, pathGlobFilter, recursiveFileLookup, modifiedBefore, modifiedAfter, unescapedQuoteHandling)\u001b[0m\n\u001b[1;32m    735\u001b[0m             \u001b[0mpath\u001b[0m \u001b[0;34m=\u001b[0m \u001b[0;34m[\u001b[0m\u001b[0mpath\u001b[0m\u001b[0;34m]\u001b[0m\u001b[0;34m\u001b[0m\u001b[0;34m\u001b[0m\u001b[0m\n\u001b[1;32m    736\u001b[0m         \u001b[0;32mif\u001b[0m \u001b[0mtype\u001b[0m\u001b[0;34m(\u001b[0m\u001b[0mpath\u001b[0m\u001b[0;34m)\u001b[0m \u001b[0;34m==\u001b[0m \u001b[0mlist\u001b[0m\u001b[0;34m:\u001b[0m\u001b[0;34m\u001b[0m\u001b[0;34m\u001b[0m\u001b[0m\n\u001b[0;32m--> 737\u001b[0;31m             \u001b[0;32mreturn\u001b[0m \u001b[0mself\u001b[0m\u001b[0;34m.\u001b[0m\u001b[0m_df\u001b[0m\u001b[0;34m(\u001b[0m\u001b[0mself\u001b[0m\u001b[0;34m.\u001b[0m\u001b[0m_jreader\u001b[0m\u001b[0;34m.\u001b[0m\u001b[0mcsv\u001b[0m\u001b[0;34m(\u001b[0m\u001b[0mself\u001b[0m\u001b[0;34m.\u001b[0m\u001b[0m_spark\u001b[0m\u001b[0;34m.\u001b[0m\u001b[0m_sc\u001b[0m\u001b[0;34m.\u001b[0m\u001b[0m_jvm\u001b[0m\u001b[0;34m.\u001b[0m\u001b[0mPythonUtils\u001b[0m\u001b[0;34m.\u001b[0m\u001b[0mtoSeq\u001b[0m\u001b[0;34m(\u001b[0m\u001b[0mpath\u001b[0m\u001b[0;34m)\u001b[0m\u001b[0;34m)\u001b[0m\u001b[0;34m)\u001b[0m\u001b[0;34m\u001b[0m\u001b[0;34m\u001b[0m\u001b[0m\n\u001b[0m\u001b[1;32m    738\u001b[0m         \u001b[0;32melif\u001b[0m \u001b[0misinstance\u001b[0m\u001b[0;34m(\u001b[0m\u001b[0mpath\u001b[0m\u001b[0;34m,\u001b[0m \u001b[0mRDD\u001b[0m\u001b[0;34m)\u001b[0m\u001b[0;34m:\u001b[0m\u001b[0;34m\u001b[0m\u001b[0;34m\u001b[0m\u001b[0m\n\u001b[1;32m    739\u001b[0m             \u001b[0;32mdef\u001b[0m \u001b[0mfunc\u001b[0m\u001b[0;34m(\u001b[0m\u001b[0miterator\u001b[0m\u001b[0;34m)\u001b[0m\u001b[0;34m:\u001b[0m\u001b[0;34m\u001b[0m\u001b[0;34m\u001b[0m\u001b[0m\n",
            "\u001b[0;32m/content/spark-3.1.1-bin-hadoop3.2/python/lib/py4j-0.10.9-src.zip/py4j/java_gateway.py\u001b[0m in \u001b[0;36m__call__\u001b[0;34m(self, *args)\u001b[0m\n\u001b[1;32m   1302\u001b[0m \u001b[0;34m\u001b[0m\u001b[0m\n\u001b[1;32m   1303\u001b[0m         \u001b[0manswer\u001b[0m \u001b[0;34m=\u001b[0m \u001b[0mself\u001b[0m\u001b[0;34m.\u001b[0m\u001b[0mgateway_client\u001b[0m\u001b[0;34m.\u001b[0m\u001b[0msend_command\u001b[0m\u001b[0;34m(\u001b[0m\u001b[0mcommand\u001b[0m\u001b[0;34m)\u001b[0m\u001b[0;34m\u001b[0m\u001b[0;34m\u001b[0m\u001b[0m\n\u001b[0;32m-> 1304\u001b[0;31m         return_value = get_return_value(\n\u001b[0m\u001b[1;32m   1305\u001b[0m             answer, self.gateway_client, self.target_id, self.name)\n\u001b[1;32m   1306\u001b[0m \u001b[0;34m\u001b[0m\u001b[0m\n",
            "\u001b[0;32m/content/spark-3.1.1-bin-hadoop3.2/python/pyspark/sql/utils.py\u001b[0m in \u001b[0;36mdeco\u001b[0;34m(*a, **kw)\u001b[0m\n\u001b[1;32m    115\u001b[0m                 \u001b[0;31m# Hide where the exception came from that shows a non-Pythonic\u001b[0m\u001b[0;34m\u001b[0m\u001b[0;34m\u001b[0m\u001b[0m\n\u001b[1;32m    116\u001b[0m                 \u001b[0;31m# JVM exception message.\u001b[0m\u001b[0;34m\u001b[0m\u001b[0;34m\u001b[0m\u001b[0m\n\u001b[0;32m--> 117\u001b[0;31m                 \u001b[0;32mraise\u001b[0m \u001b[0mconverted\u001b[0m \u001b[0;32mfrom\u001b[0m \u001b[0;32mNone\u001b[0m\u001b[0;34m\u001b[0m\u001b[0;34m\u001b[0m\u001b[0m\n\u001b[0m\u001b[1;32m    118\u001b[0m             \u001b[0;32melse\u001b[0m\u001b[0;34m:\u001b[0m\u001b[0;34m\u001b[0m\u001b[0;34m\u001b[0m\u001b[0m\n\u001b[1;32m    119\u001b[0m                 \u001b[0;32mraise\u001b[0m\u001b[0;34m\u001b[0m\u001b[0;34m\u001b[0m\u001b[0m\n",
            "\u001b[0;31mAnalysisException\u001b[0m: Path does not exist: file:/content/path/to/offences.csv"
          ]
        }
      ],
      "source": [
        "from pyspark.sql.functions import *\n",
        "from pyspark.sql import SparkSession\n",
        "\n",
        "# create spark session\n",
        "spark = SparkSession.builder.appName(\"MCI Boxplot\").getOrCreate()\n",
        "\n",
        "# load data from csv files into dataframes\n",
        "offences_df = spark.read.option(\"header\", \"true\").csv(\"v3offences.csv\")\n",
        "hoods_df = spark.read.option(\"header\", \"true\").csv(\"path/to/hoods.csv\")\n",
        "locations_df = spark.read.option(\"header\", \"true\").csv(\"path/to/locations.csv\")\n",
        "events_df = spark.read.option(\"header\", \"true\").csv(\"path/to/events.csv\")\n",
        "\n",
        "# # join dataframes\n",
        "# joined_df = events_df.join(offences_df, [\"UCR_CODE\", \"UCR_EXT\"]) \\\n",
        "#                     .join(hoods_df, [\"HOOD_158\"]) \\\n",
        "#                     .join(locations_df, [\"LOCATION_ID\"]) \\\n",
        "#                     .select(\"MCI_CATEGORY\", \"HOOD_LONG_WGS84\", \"HOOD_LAT_WGS84\", \"PREMISES_TYPE\", \"LOCATION_TYPE\")\n",
        "\n",
        "# # filter data by MCI category\n",
        "# assault_df = joined_df.filter(col(\"MCI_CATEGORY\") == \"Assault\")\n",
        "# break_enter_df = joined_df.filter(col(\"MCI_CATEGORY\") == \"Break and Enter\")\n",
        "# robbery_df = joined_df.filter(col(\"MCI_CATEGORY\") == \"Robbery\")\n",
        "\n",
        "# # create boxplot for each MCI category\n",
        "# assault_df.toPandas().boxplot(column=[\"HOOD_LONG_WGS84\", \"HOOD_LAT_WGS84\"], by=[\"PREMISES_TYPE\", \"LOCATION_TYPE\"])\n",
        "# break_enter_df.toPandas().boxplot(column=[\"HOOD_LONG_WGS84\", \"HOOD_LAT_WGS84\"], by=[\"PREMISES_TYPE\", \"LOCATION_TYPE\"])\n",
        "# robbery_df.toPandas().boxplot(column=[\"HOOD_LONG_WGS84\", \"HOOD_LAT_WGS84\"], by=[\"PREMISES_TYPE\", \"LOCATION_TYPE\"])\n",
        "\n"
      ]
    },
    {
      "cell_type": "code",
      "source": [
        "from pyspark.sql.functions import *\n",
        "import matplotlib.pyplot as plt\n",
        "\n",
        "# # Load tables into DataFrames\n",
        "# categories_df = spark.table(\"categories\")\n",
        "# hood_df = spark.table(\"hood\")\n",
        "# premisses_df = spark.table(\"premisses\")\n",
        "# incidents_df = spark.table(\"incidents\")\n",
        "\n",
        "# Join tables\n",
        "joined_df = incidents.join(premisses, incidents.PRESMISE_ID == premisses.LOCATION_ID, \"left\") \\\n",
        "    .join(hood, incidents.HOOD_158 == hood.HOOD_158, \"left\") \\\n",
        "    .join(categories, [incidents.UCR_CODE == categories.UCR_CODE, incidents.UCR_EXT == categories.UCR_EXT], \"left\")\n",
        "\n",
        "# # Join tables\n",
        "# joined_df = incidents_df.join(premisses_df, incidents_df.PRESMISE_ID == premisses_df.LOCATION_ID, \"left\") \\\n",
        "#     .join(hood_df, incidents_df.HOOD_158 == hood_df.HOOD_158, \"left\") \\\n",
        "#     .join(categories_df, [incidents_df.UCR_CODE == categories_df.UCR_CODE, incidents_df.UCR_EXT == categories_df.UCR_EXT], \"left\")\n",
        "\n",
        "# # Group by MCI category and collect data for boxplot\n",
        "# boxplot_data = []\n",
        "# for category in joined_df.select(\"MCI_CATEGORY\").distinct().collect():\n",
        "#     category_data = joined_df.filter(col(\"MCI_CATEGORY\") == category.MCI_CATEGORY).select(\"OFFENCE\").rdd.flatMap(lambda x: x).collect()\n",
        "#     boxplot_data.append(category_data)\n",
        "\n",
        "# # Create boxplot\n",
        "# plt.boxplot(boxplot_data, labels=joined_df.select(\"MCI_CATEGORY\").distinct().rdd.flatMap(lambda x: x).collect())\n",
        "# plt.xlabel(\"MCI Category\")\n",
        "# plt.ylabel(\"Offence\")\n",
        "# plt.title(\"Offences by MCI Category\")\n",
        "# plt.show()\n",
        "\n"
      ],
      "metadata": {
        "id": "yyotTa2eTtAn"
      },
      "execution_count": null,
      "outputs": []
    },
    {
      "cell_type": "code",
      "source": [
        "from pyspark.sql.functions import *\n",
        "import matplotlib.pyplot as plt\n",
        "\n",
        "# Join tables\n",
        "joined_df = incidents.join(premisses, incidents.PRESMISE_ID == premisses.LOCATION_ID, \"left\") \\\n",
        "                     .join(hood, incidents.HOOD_158 == hood.HOOD_158, \"left\") \\\n",
        "                     .join(categories, [incidents.UCR_CODE == categories.UCR_CODE, incidents.UCR_EXT == categories.UCR_EXT], \"left\")\n",
        "\n",
        "# Group by MCI category and collect data for boxplot\n",
        "boxplot_data = []\n",
        "for category in joined_df.select(\"MCI_CATEGORY\").distinct().collect():\n",
        "    category_data = joined_df.filter(col(\"MCI_CATEGORY\") == category.MCI_CATEGORY).select(\"OFFENCE\").rdd.flatMap(lambda x: x).collect()\n",
        "    boxplot_data.append(category_data)\n"
      ],
      "metadata": {
        "id": "W-lKuKOyYotz"
      },
      "execution_count": null,
      "outputs": []
    },
    {
      "cell_type": "code",
      "source": [
        "import numpy as np\n",
        "\n",
        "# Create boxplot\n",
        "labels = joined_df.select(\"MCI_CATEGORY\").distinct().rdd.flatMap(lambda x: x).collect()\n",
        "boxplot_data = [np.array(d).astype(np.float) for d in boxplot_data]\n",
        "plt.boxplot(boxplot_data, labels=labels)\n",
        "plt.xlabel(\"MCI Category\")\n",
        "plt.ylabel(\"Offence\")\n",
        "plt.title(\"Offences by MCI Category\")\n",
        "plt.show()"
      ],
      "metadata": {
        "colab": {
          "base_uri": "https://localhost:8080/",
          "height": 446
        },
        "id": "ygns94e2bG8I",
        "outputId": "c1430a7d-415c-4375-976a-8f20e2916698"
      },
      "execution_count": null,
      "outputs": [
        {
          "output_type": "stream",
          "name": "stderr",
          "text": [
            "<ipython-input-42-a439af3380d3>:5: DeprecationWarning: `np.float` is a deprecated alias for the builtin `float`. To silence this warning, use `float` by itself. Doing this will not modify any behavior and is safe. If you specifically wanted the numpy scalar type, use `np.float64` here.\n",
            "Deprecated in NumPy 1.20; for more details and guidance: https://numpy.org/devdocs/release/1.20.0-notes.html#deprecations\n",
            "  boxplot_data = [np.array(d).astype(np.float) for d in boxplot_data]\n"
          ]
        },
        {
          "output_type": "error",
          "ename": "ValueError",
          "evalue": "ignored",
          "traceback": [
            "\u001b[0;31m---------------------------------------------------------------------------\u001b[0m",
            "\u001b[0;31mValueError\u001b[0m                                Traceback (most recent call last)",
            "\u001b[0;32m<ipython-input-42-a439af3380d3>\u001b[0m in \u001b[0;36m<cell line: 5>\u001b[0;34m()\u001b[0m\n\u001b[1;32m      3\u001b[0m \u001b[0;31m# Create boxplot\u001b[0m\u001b[0;34m\u001b[0m\u001b[0;34m\u001b[0m\u001b[0m\n\u001b[1;32m      4\u001b[0m \u001b[0mlabels\u001b[0m \u001b[0;34m=\u001b[0m \u001b[0mjoined_df\u001b[0m\u001b[0;34m.\u001b[0m\u001b[0mselect\u001b[0m\u001b[0;34m(\u001b[0m\u001b[0;34m\"MCI_CATEGORY\"\u001b[0m\u001b[0;34m)\u001b[0m\u001b[0;34m.\u001b[0m\u001b[0mdistinct\u001b[0m\u001b[0;34m(\u001b[0m\u001b[0;34m)\u001b[0m\u001b[0;34m.\u001b[0m\u001b[0mrdd\u001b[0m\u001b[0;34m.\u001b[0m\u001b[0mflatMap\u001b[0m\u001b[0;34m(\u001b[0m\u001b[0;32mlambda\u001b[0m \u001b[0mx\u001b[0m\u001b[0;34m:\u001b[0m \u001b[0mx\u001b[0m\u001b[0;34m)\u001b[0m\u001b[0;34m.\u001b[0m\u001b[0mcollect\u001b[0m\u001b[0;34m(\u001b[0m\u001b[0;34m)\u001b[0m\u001b[0;34m\u001b[0m\u001b[0;34m\u001b[0m\u001b[0m\n\u001b[0;32m----> 5\u001b[0;31m \u001b[0mboxplot_data\u001b[0m \u001b[0;34m=\u001b[0m \u001b[0;34m[\u001b[0m\u001b[0mnp\u001b[0m\u001b[0;34m.\u001b[0m\u001b[0marray\u001b[0m\u001b[0;34m(\u001b[0m\u001b[0md\u001b[0m\u001b[0;34m)\u001b[0m\u001b[0;34m.\u001b[0m\u001b[0mastype\u001b[0m\u001b[0;34m(\u001b[0m\u001b[0mnp\u001b[0m\u001b[0;34m.\u001b[0m\u001b[0mfloat\u001b[0m\u001b[0;34m)\u001b[0m \u001b[0;32mfor\u001b[0m \u001b[0md\u001b[0m \u001b[0;32min\u001b[0m \u001b[0mboxplot_data\u001b[0m\u001b[0;34m]\u001b[0m\u001b[0;34m\u001b[0m\u001b[0;34m\u001b[0m\u001b[0m\n\u001b[0m\u001b[1;32m      6\u001b[0m \u001b[0mplt\u001b[0m\u001b[0;34m.\u001b[0m\u001b[0mboxplot\u001b[0m\u001b[0;34m(\u001b[0m\u001b[0mboxplot_data\u001b[0m\u001b[0;34m,\u001b[0m \u001b[0mlabels\u001b[0m\u001b[0;34m=\u001b[0m\u001b[0mlabels\u001b[0m\u001b[0;34m)\u001b[0m\u001b[0;34m\u001b[0m\u001b[0;34m\u001b[0m\u001b[0m\n\u001b[1;32m      7\u001b[0m \u001b[0mplt\u001b[0m\u001b[0;34m.\u001b[0m\u001b[0mxlabel\u001b[0m\u001b[0;34m(\u001b[0m\u001b[0;34m\"MCI Category\"\u001b[0m\u001b[0;34m)\u001b[0m\u001b[0;34m\u001b[0m\u001b[0;34m\u001b[0m\u001b[0m\n",
            "\u001b[0;32m<ipython-input-42-a439af3380d3>\u001b[0m in \u001b[0;36m<listcomp>\u001b[0;34m(.0)\u001b[0m\n\u001b[1;32m      3\u001b[0m \u001b[0;31m# Create boxplot\u001b[0m\u001b[0;34m\u001b[0m\u001b[0;34m\u001b[0m\u001b[0m\n\u001b[1;32m      4\u001b[0m \u001b[0mlabels\u001b[0m \u001b[0;34m=\u001b[0m \u001b[0mjoined_df\u001b[0m\u001b[0;34m.\u001b[0m\u001b[0mselect\u001b[0m\u001b[0;34m(\u001b[0m\u001b[0;34m\"MCI_CATEGORY\"\u001b[0m\u001b[0;34m)\u001b[0m\u001b[0;34m.\u001b[0m\u001b[0mdistinct\u001b[0m\u001b[0;34m(\u001b[0m\u001b[0;34m)\u001b[0m\u001b[0;34m.\u001b[0m\u001b[0mrdd\u001b[0m\u001b[0;34m.\u001b[0m\u001b[0mflatMap\u001b[0m\u001b[0;34m(\u001b[0m\u001b[0;32mlambda\u001b[0m \u001b[0mx\u001b[0m\u001b[0;34m:\u001b[0m \u001b[0mx\u001b[0m\u001b[0;34m)\u001b[0m\u001b[0;34m.\u001b[0m\u001b[0mcollect\u001b[0m\u001b[0;34m(\u001b[0m\u001b[0;34m)\u001b[0m\u001b[0;34m\u001b[0m\u001b[0;34m\u001b[0m\u001b[0m\n\u001b[0;32m----> 5\u001b[0;31m \u001b[0mboxplot_data\u001b[0m \u001b[0;34m=\u001b[0m \u001b[0;34m[\u001b[0m\u001b[0mnp\u001b[0m\u001b[0;34m.\u001b[0m\u001b[0marray\u001b[0m\u001b[0;34m(\u001b[0m\u001b[0md\u001b[0m\u001b[0;34m)\u001b[0m\u001b[0;34m.\u001b[0m\u001b[0mastype\u001b[0m\u001b[0;34m(\u001b[0m\u001b[0mnp\u001b[0m\u001b[0;34m.\u001b[0m\u001b[0mfloat\u001b[0m\u001b[0;34m)\u001b[0m \u001b[0;32mfor\u001b[0m \u001b[0md\u001b[0m \u001b[0;32min\u001b[0m \u001b[0mboxplot_data\u001b[0m\u001b[0;34m]\u001b[0m\u001b[0;34m\u001b[0m\u001b[0;34m\u001b[0m\u001b[0m\n\u001b[0m\u001b[1;32m      6\u001b[0m \u001b[0mplt\u001b[0m\u001b[0;34m.\u001b[0m\u001b[0mboxplot\u001b[0m\u001b[0;34m(\u001b[0m\u001b[0mboxplot_data\u001b[0m\u001b[0;34m,\u001b[0m \u001b[0mlabels\u001b[0m\u001b[0;34m=\u001b[0m\u001b[0mlabels\u001b[0m\u001b[0;34m)\u001b[0m\u001b[0;34m\u001b[0m\u001b[0;34m\u001b[0m\u001b[0m\n\u001b[1;32m      7\u001b[0m \u001b[0mplt\u001b[0m\u001b[0;34m.\u001b[0m\u001b[0mxlabel\u001b[0m\u001b[0;34m(\u001b[0m\u001b[0;34m\"MCI Category\"\u001b[0m\u001b[0;34m)\u001b[0m\u001b[0;34m\u001b[0m\u001b[0;34m\u001b[0m\u001b[0m\n",
            "\u001b[0;31mValueError\u001b[0m: could not convert string to float: 'Administering Noxious Thing'"
          ]
        }
      ]
    },
    {
      "cell_type": "code",
      "source": [
        "from pyspark.sql.functions import *\n",
        "import matplotlib.pyplot as plt\n",
        "\n",
        "# Join tables\n",
        "joined_df = incidents.join(premisses, incidents.PRESMISE_ID == premisses.LOCATION_ID, \"left\") \\\n",
        "                     .join(hood, incidents.HOOD_158 == hood.HOOD_158, \"left\") \\\n",
        "                     .join(categories, [incidents.UCR_CODE == categories.UCR_CODE, incidents.UCR_EXT == categories.UCR_EXT], \"left\")\n",
        "\n",
        "# Group by MCI category and collect data for boxplot\n",
        "boxplot_data = []\n",
        "mci_category_dict = {}\n",
        "mci_category_val = 0\n",
        "for category in joined_df.select(\"MCI_CATEGORY\").distinct().collect():\n",
        "    mci_category = category.MCI_CATEGORY\n",
        "    if mci_category not in mci_category_dict:\n",
        "        mci_category_dict[mci_category] = mci_category_val\n",
        "        mci_category_val += 1\n",
        "    category_data = joined_df.filter(col(\"MCI_CATEGORY\") == mci_category).select(\"OFFENCE\").rdd.flatMap(lambda x: x).collect()\n",
        "    boxplot_data.append(category_data)\n",
        "\n",
        "# Replace string values with numerical values\n",
        "for i in range(len(boxplot_data)):\n",
        "    for j in range(len(boxplot_data[i])):\n",
        "        boxplot_data[i][j] = mci_category_dict[boxplot_data[i][j]]\n",
        "\n",
        "# Create boxplot\n",
        "labels = joined_df.select(\"MCI_CATEGORY\").distinct().rdd.flatMap(lambda x: x).collect()\n",
        "plt.boxplot(boxplot_data, labels=labels)\n",
        "plt.xlabel(\"MCI Category\")\n",
        "plt.ylabel(\"Offence\")\n",
        "plt.title(\"Offences by MCI Category\")\n",
        "plt.show()\n"
      ],
      "metadata": {
        "colab": {
          "base_uri": "https://localhost:8080/",
          "height": 244
        },
        "id": "ECagE0VQTw4S",
        "outputId": "36609ac2-5e54-428d-a162-a4fc6df4a148"
      },
      "execution_count": null,
      "outputs": [
        {
          "output_type": "error",
          "ename": "KeyError",
          "evalue": "ignored",
          "traceback": [
            "\u001b[0;31m---------------------------------------------------------------------------\u001b[0m",
            "\u001b[0;31mKeyError\u001b[0m                                  Traceback (most recent call last)",
            "\u001b[0;32m<ipython-input-43-edd55eae3091>\u001b[0m in \u001b[0;36m<cell line: 22>\u001b[0;34m()\u001b[0m\n\u001b[1;32m     22\u001b[0m \u001b[0;32mfor\u001b[0m \u001b[0mi\u001b[0m \u001b[0;32min\u001b[0m \u001b[0mrange\u001b[0m\u001b[0;34m(\u001b[0m\u001b[0mlen\u001b[0m\u001b[0;34m(\u001b[0m\u001b[0mboxplot_data\u001b[0m\u001b[0;34m)\u001b[0m\u001b[0;34m)\u001b[0m\u001b[0;34m:\u001b[0m\u001b[0;34m\u001b[0m\u001b[0;34m\u001b[0m\u001b[0m\n\u001b[1;32m     23\u001b[0m     \u001b[0;32mfor\u001b[0m \u001b[0mj\u001b[0m \u001b[0;32min\u001b[0m \u001b[0mrange\u001b[0m\u001b[0;34m(\u001b[0m\u001b[0mlen\u001b[0m\u001b[0;34m(\u001b[0m\u001b[0mboxplot_data\u001b[0m\u001b[0;34m[\u001b[0m\u001b[0mi\u001b[0m\u001b[0;34m]\u001b[0m\u001b[0;34m)\u001b[0m\u001b[0;34m)\u001b[0m\u001b[0;34m:\u001b[0m\u001b[0;34m\u001b[0m\u001b[0;34m\u001b[0m\u001b[0m\n\u001b[0;32m---> 24\u001b[0;31m         \u001b[0mboxplot_data\u001b[0m\u001b[0;34m[\u001b[0m\u001b[0mi\u001b[0m\u001b[0;34m]\u001b[0m\u001b[0;34m[\u001b[0m\u001b[0mj\u001b[0m\u001b[0;34m]\u001b[0m \u001b[0;34m=\u001b[0m \u001b[0mmci_category_dict\u001b[0m\u001b[0;34m[\u001b[0m\u001b[0mboxplot_data\u001b[0m\u001b[0;34m[\u001b[0m\u001b[0mi\u001b[0m\u001b[0;34m]\u001b[0m\u001b[0;34m[\u001b[0m\u001b[0mj\u001b[0m\u001b[0;34m]\u001b[0m\u001b[0;34m]\u001b[0m\u001b[0;34m\u001b[0m\u001b[0;34m\u001b[0m\u001b[0m\n\u001b[0m\u001b[1;32m     25\u001b[0m \u001b[0;34m\u001b[0m\u001b[0m\n\u001b[1;32m     26\u001b[0m \u001b[0;31m# Create boxplot\u001b[0m\u001b[0;34m\u001b[0m\u001b[0;34m\u001b[0m\u001b[0m\n",
            "\u001b[0;31mKeyError\u001b[0m: 'Administering Noxious Thing'"
          ]
        }
      ]
    },
    {
      "cell_type": "code",
      "source": [],
      "metadata": {
        "id": "AV4hSYBcdK1r"
      },
      "execution_count": null,
      "outputs": []
    },
    {
      "cell_type": "markdown",
      "source": [
        "## PIE Chart"
      ],
      "metadata": {
        "id": "Swoz5tFxdMzJ"
      }
    },
    {
      "cell_type": "code",
      "source": [
        "from pyspark.sql.functions import *\n",
        "import matplotlib.pyplot as plt\n",
        "\n",
        "# Join tables\n",
        "joined_df = incidents.join(premisses, incidents.PRESMISE_ID == premisses.LOCATION_ID, \"left\") \\\n",
        "                     .join(hood, incidents.HOOD_158 == hood.HOOD_158, \"left\") \\\n",
        "                     .join(categories, [incidents.UCR_CODE == categories.UCR_CODE, incidents.UCR_EXT == categories.UCR_EXT], \"left\")\n",
        "\n",
        "# Calculate percentage of MCI categories\n",
        "mci_category_count = joined_df.groupBy(\"MCI_CATEGORY\").count()\n",
        "total_count = mci_category_count.agg({\"count\": \"sum\"}).collect()[0][0]\n",
        "mci_category_percentages = mci_category_count.withColumn(\"percentage\", col(\"count\") / total_count * 100).select(\"MCI_CATEGORY\", \"percentage\").collect()\n",
        "\n",
        "# Create pie chart\n",
        "labels = [row.MCI_CATEGORY for row in mci_category_percentages]\n",
        "sizes = [row.percentage for row in mci_category_percentages]\n",
        "plt.pie(sizes, labels=labels, autopct='%1.1f%%')\n",
        "plt.title(\"% of MCI Categories\")\n",
        "plt.show()\n"
      ],
      "metadata": {
        "colab": {
          "base_uri": "https://localhost:8080/",
          "height": 428
        },
        "id": "Lcd9JqhidOrm",
        "outputId": "d38fc65a-1c55-4381-c972-e4b97f4cc679"
      },
      "execution_count": null,
      "outputs": [
        {
          "output_type": "display_data",
          "data": {
            "text/plain": [
              "<Figure size 640x480 with 1 Axes>"
            ],
            "image/png": "[encoded data removed]"
          },
          "metadata": {}
        }
      ]
    },
    {
      "cell_type": "code",
      "source": [],
      "metadata": {
        "id": "5kSW2wDFGqxV"
      },
      "execution_count": null,
      "outputs": []
    },
    {
      "cell_type": "markdown",
      "source": [
        "## zabre"
      ],
      "metadata": {
        "id": "I1BdEOKCD2iZ"
      }
    },
    {
      "cell_type": "code",
      "source": [
        "from pyspark.ml.feature import StringIndexer, OneHotEncoder, VectorAssembler\n",
        "from pyspark.ml.classification import RandomForestClassifier\n",
        "from pyspark.ml.evaluation import BinaryClassificationEvaluator\n",
        "from pyspark.sql import SparkSession\n",
        "\n",
        "# create spark session\n",
        "spark = SparkSession.builder.appName('Titanic Random Forest').getOrCreate()\n",
        "\n",
        "# Select relevant columns\n",
        "data = df.select('OCC_YEAR', 'OCC_MONTH', 'OCC_DAY', 'OCC_DOY', 'OCC_DOW', 'OCC_HOUR', 'MCI_CATEGORY', 'DIVISION', 'HOOD_158', 'PREMISES_TYPE')\n",
        "\n",
        "# One-hot encode categorical variables\n",
        "\n",
        "\n",
        "# # select relevant columns\n",
        "# cols = ['Survived', 'Pclass', 'Sex', 'Age', 'SibSp', 'Parch', 'Fare', 'Embarked']\n",
        "# data = titanic.select(cols)\n",
        "\n",
        "# drop missing values\n",
        "data = data.dropna()\n",
        "\n",
        "# convert categorical variables to numerical\n",
        "cat_cols = ['MCI_CATEGORY', 'DIVISION', 'PREMISES_TYPE', 'OCC_DOW', 'OCC_MONTH']\n",
        "indexers = [StringIndexer(inputCol=col, outputCol=col+'_idx', handleInvalid='skip') for col in cat_cols]\n",
        "encoders = [OneHotEncoder(inputCol=indexer.getOutputCol(), outputCol=indexer.getOutputCol()+'_enc') for indexer in indexers]\n",
        "assembler = VectorAssembler(inputCols=[encoder.getOutputCol() for encoder in encoders]+['OCC_YEAR', 'OCC_DAY', 'OCC_DOY', 'OCC_HOUR', 'HOOD_158'], outputCol='features')\n",
        "\n",
        "# set up pipeline\n",
        "from pyspark.ml import Pipeline\n",
        "pipeline = Pipeline(stages=indexers + encoders + [assembler])\n",
        "\n",
        "# fit and transform data\n",
        "data = pipeline.fit(data).transform(data)\n",
        "\n",
        "# convert label to numeric\n",
        "data = StringIndexer(inputCol='MCI_CATEGORY', outputCol='label').fit(data).transform(data)\n",
        "\n",
        "# split into training and testing sets\n",
        "(training, testing) = data.randomSplit([0.7, 0.3], seed=42)\n",
        "\n",
        "# train random forest model\n",
        "rf = RandomForestClassifier(labelCol='label', featuresCol='features', numTrees=100)\n",
        "model = rf.fit(training)\n",
        "\n",
        "# make predictions on testing data\n",
        "predictions = model.transform(testing)\n",
        "\n",
        "# evaluate model performance\n",
        "evaluator = BinaryClassificationEvaluator(labelCol='label', rawPredictionCol='prediction')\n",
        "auc = evaluator.evaluate(predictions)\n",
        "print('AUC:', auc)\n"
      ],
      "metadata": {
        "colab": {
          "base_uri": "https://localhost:8080/"
        },
        "id": "Qpwm23DhFws0",
        "outputId": "1420318f-e6cc-4fcd-ae49-de5a9d7b258a"
      },
      "execution_count": 147,
      "outputs": [
        {
          "output_type": "stream",
          "name": "stdout",
          "text": [
            "AUC: 0.9688728258414276\n"
          ]
        }
      ]
    },
    {
      "cell_type": "markdown",
      "source": [
        "## XGboost"
      ],
      "metadata": {
        "id": "CK8VaQtzLEUH"
      }
    },
    {
      "cell_type": "code",
      "source": [
        "!pip install pysparkling"
      ],
      "metadata": {
        "colab": {
          "base_uri": "https://localhost:8080/"
        },
        "id": "QmrGF7CdMAau",
        "outputId": "d773a207-5204-4994-9baf-8bf7c97a09b5"
      },
      "execution_count": 151,
      "outputs": [
        {
          "output_type": "stream",
          "name": "stdout",
          "text": [
            "Looking in indexes: https://pypi.org/simple, https://us-python.pkg.dev/colab-wheels/public/simple/\n",
            "Collecting pysparkling\n",
            "  Downloading pysparkling-0.6.2.tar.gz (166 kB)\n",
            "\u001b[2K     \u001b[90m━━━━━━━━━━━━━━━━━━━━━━━━━━━━━━━━━━━━━━━\u001b[0m \u001b[32m166.2/166.2 kB\u001b[0m \u001b[31m4.0 MB/s\u001b[0m eta \u001b[36m0:00:00\u001b[0m\n",
            "\u001b[?25h  Preparing metadata (setup.py) ... \u001b[?25l\u001b[?25hdone\n",
            "Requirement already satisfied: pytz>=2019.3 in /usr/local/lib/python3.10/dist-packages (from pysparkling) (2022.7.1)\n",
            "Requirement already satisfied: python-dateutil>=2.8.0 in /usr/local/lib/python3.10/dist-packages (from pysparkling) (2.8.2)\n",
            "Requirement already satisfied: six>=1.5 in /usr/local/lib/python3.10/dist-packages (from python-dateutil>=2.8.0->pysparkling) (1.16.0)\n",
            "Building wheels for collected packages: pysparkling\n",
            "  Building wheel for pysparkling (setup.py) ... \u001b[?25l\u001b[?25hdone\n",
            "  Created wheel for pysparkling: filename=pysparkling-0.6.2-py3-none-any.whl size=185898 sha256=5732167b80a9b23df74dbd2ce1d5e25f7732b589f94b3c0ad8552505e082bf10\n",
            "  Stored in directory: /root/.cache/pip/wheels/65/4e/9f/ebee95d389ea78f11338ba3fe358c09d047f065c4d6ac4cd88\n",
            "Successfully built pysparkling\n",
            "Installing collected packages: pysparkling\n",
            "Successfully installed pysparkling-0.6.2\n"
          ]
        }
      ]
    },
    {
      "cell_type": "code",
      "source": [
        "!pip install h2o-pysparkling-3-1\n"
      ],
      "metadata": {
        "colab": {
          "base_uri": "https://localhost:8080/"
        },
        "id": "vnBquZBgOyzg",
        "outputId": "4a26c922-f9b1-4017-be91-9dcfb9a5b7dd"
      },
      "execution_count": 160,
      "outputs": [
        {
          "output_type": "stream",
          "name": "stdout",
          "text": [
            "Looking in indexes: https://pypi.org/simple, https://us-python.pkg.dev/colab-wheels/public/simple/\n",
            "Collecting h2o-pysparkling-3-1\n",
            "  Downloading h2o_pysparkling_3.1-3.40.0.2-1.tar.gz (162.2 MB)\n",
            "\u001b[2K     \u001b[90m━━━━━━━━━━━━━━━━━━━━━━━━━━━━━━━━━━━━━━━\u001b[0m \u001b[32m162.2/162.2 MB\u001b[0m \u001b[31m6.4 MB/s\u001b[0m eta \u001b[36m0:00:00\u001b[0m\n",
            "\u001b[?25h  Preparing metadata (setup.py) ... \u001b[?25l\u001b[?25hdone\n",
            "Requirement already satisfied: requests in /usr/local/lib/python3.10/dist-packages (from h2o-pysparkling-3-1) (2.27.1)\n",
            "Requirement already satisfied: tabulate in /usr/local/lib/python3.10/dist-packages (from h2o-pysparkling-3-1) (0.8.10)\n",
            "Requirement already satisfied: future in /usr/local/lib/python3.10/dist-packages (from h2o-pysparkling-3-1) (0.18.3)\n",
            "Requirement already satisfied: idna<4,>=2.5 in /usr/local/lib/python3.10/dist-packages (from requests->h2o-pysparkling-3-1) (3.4)\n",
            "Requirement already satisfied: certifi>=2017.4.17 in /usr/local/lib/python3.10/dist-packages (from requests->h2o-pysparkling-3-1) (2022.12.7)\n",
            "Requirement already satisfied: urllib3<1.27,>=1.21.1 in /usr/local/lib/python3.10/dist-packages (from requests->h2o-pysparkling-3-1) (1.26.15)\n",
            "Requirement already satisfied: charset-normalizer~=2.0.0 in /usr/local/lib/python3.10/dist-packages (from requests->h2o-pysparkling-3-1) (2.0.12)\n",
            "Building wheels for collected packages: h2o-pysparkling-3-1\n",
            "  Building wheel for h2o-pysparkling-3-1 (setup.py) ... \u001b[?25l\u001b[?25hdone\n",
            "  Created wheel for h2o-pysparkling-3-1: filename=h2o_pysparkling_3.1-3.40.0.2.post1-py2.py3-none-any.whl size=162493544 sha256=4eb451ea79ad8dca8c6da303ec0233b5379141e6ca7f4adbe55bcc7994cd2469\n",
            "  Stored in directory: /root/.cache/pip/wheels/d2/eb/86/926145b57d8005a002f349f0771e5be375ecd1c1f850eb0897\n",
            "Successfully built h2o-pysparkling-3-1\n",
            "Installing collected packages: h2o-pysparkling-3-1\n",
            "Successfully installed h2o-pysparkling-3-1-3.40.0.2.post1\n"
          ]
        }
      ]
    },
    {
      "cell_type": "code",
      "source": [
        "from pysparkling.ml import XGBoostClassifier"
      ],
      "metadata": {
        "colab": {
          "base_uri": "https://localhost:8080/",
          "height": 321
        },
        "id": "IZypXZhSM-z-",
        "outputId": "9c82764e-aa89-46c2-9e61-0c210c280622"
      },
      "execution_count": 159,
      "outputs": [
        {
          "output_type": "error",
          "ename": "ModuleNotFoundError",
          "evalue": "ignored",
          "traceback": [
            "\u001b[0;31m---------------------------------------------------------------------------\u001b[0m",
            "\u001b[0;31mModuleNotFoundError\u001b[0m                       Traceback (most recent call last)",
            "\u001b[0;32m<ipython-input-159-b343d01875a4>\u001b[0m in \u001b[0;36m<cell line: 2>\u001b[0;34m()\u001b[0m\n\u001b[1;32m      1\u001b[0m \u001b[0;31m# from pysparkling.ml import XGBoostClassifier\u001b[0m\u001b[0;34m\u001b[0m\u001b[0;34m\u001b[0m\u001b[0m\n\u001b[0;32m----> 2\u001b[0;31m \u001b[0;32mimport\u001b[0m \u001b[0mXGBoostClassifier\u001b[0m\u001b[0;34m\u001b[0m\u001b[0;34m\u001b[0m\u001b[0m\n\u001b[0m",
            "\u001b[0;31mModuleNotFoundError\u001b[0m: No module named 'XGBoostClassifier'",
            "",
            "\u001b[0;31m---------------------------------------------------------------------------\u001b[0;32m\nNOTE: If your import is failing due to a missing package, you can\nmanually install dependencies using either !pip or !apt.\n\nTo view examples of installing some common dependencies, click the\n\"Open Examples\" button below.\n\u001b[0;31m---------------------------------------------------------------------------\u001b[0m\n"
          ],
          "errorDetails": {
            "actions": [
              {
                "action": "open_url",
                "actionText": "Open Examples",
                "url": "/notebooks/snippets/importing_libraries.ipynb"
              }
            ]
          }
        }
      ]
    },
    {
      "cell_type": "code",
      "source": [
        "from pyspark.ml.feature import StringIndexer, OneHotEncoder, VectorAssembler\n",
        "from pyspark.ml.classification import RandomForestClassifier\n",
        "from pyspark.ml.evaluation import BinaryClassificationEvaluator\n",
        "from pyspark.ml import Pipeline\n",
        "from pyspark.sql import SparkSession\n",
        "\n",
        "# Create a spark session\n",
        "spark = SparkSession.builder.appName('MCI XGBoost').getOrCreate()\n",
        "\n",
        "# Select relevant columns\n",
        "data = df.select('OCC_YEAR', 'OCC_MONTH', 'OCC_DAY', 'OCC_DOY', 'OCC_DOW', 'OCC_HOUR', 'MCI_CATEGORY', 'DIVISION', 'HOOD_158', 'PREMISES_TYPE')\n",
        "\n",
        "# Drop missing values\n",
        "data = data.dropna()\n",
        "\n",
        "# Convert categorical variables to numerical\n",
        "cat_cols = ['MCI_CATEGORY', 'DIVISION', 'PREMISES_TYPE', 'OCC_DOW', 'OCC_MONTH']\n",
        "indexers = [StringIndexer(inputCol=col, outputCol=col+'_idx', handleInvalid='skip') for col in cat_cols]\n",
        "encoders = [OneHotEncoder(inputCol=indexer.getOutputCol(), outputCol=indexer.getOutputCol()+'_enc') for indexer in indexers]\n",
        "assembler = VectorAssembler(inputCols=[encoder.getOutputCol() for encoder in encoders]+['OCC_YEAR', 'OCC_DAY', 'OCC_DOY', 'OCC_HOUR', 'HOOD_158'], outputCol='features')\n",
        "\n",
        "# Set up pipeline\n",
        "pipeline = Pipeline(stages=indexers + encoders + [assembler])\n",
        "\n",
        "# Fit and transform data\n",
        "data = pipeline.fit(data).transform(data)\n",
        "\n",
        "# Convert label to numeric\n",
        "data = StringIndexer(inputCol='MCI_CATEGORY', outputCol='label').fit(data).transform(data)\n",
        "\n",
        "# Split into training and testing sets\n",
        "(training, testing) = data.randomSplit([0.7, 0.3], seed=42)\n",
        "\n",
        "# Train XGBoost model\n",
        "from pysparkling.ml import XGBoostClassifier\n",
        "xgboost = XGBoostClassifier(labelCol=\"label\", featuresCol=\"features\", maxDepth=8, numRound=10, objective=\"multi:softprob\")\n",
        "xgboost_model = xgboost.fit(training)\n",
        "\n",
        "# Make predictions on testing data\n",
        "predictions = xgboost_model.transform(testing)\n",
        "\n",
        "# Evaluate model performance\n",
        "from pyspark.ml.evaluation import MulticlassClassificationEvaluator\n",
        "evaluator = MulticlassClassificationEvaluator(labelCol='label', predictionCol='prediction', metricName='accuracy')\n",
        "accuracy = evaluator.evaluate(predictions)\n",
        "print('Accuracy:', accuracy)\n"
      ],
      "metadata": {
        "colab": {
          "base_uri": "https://localhost:8080/",
          "height": 373
        },
        "id": "eJl9Y200LGSB",
        "outputId": "bf542834-eaea-4998-a486-5d7348654f6b"
      },
      "execution_count": 152,
      "outputs": [
        {
          "output_type": "error",
          "ename": "ModuleNotFoundError",
          "evalue": "ignored",
          "traceback": [
            "\u001b[0;31m---------------------------------------------------------------------------\u001b[0m",
            "\u001b[0;31mModuleNotFoundError\u001b[0m                       Traceback (most recent call last)",
            "\u001b[0;32m<ipython-input-152-3d4822e79094>\u001b[0m in \u001b[0;36m<cell line: 35>\u001b[0;34m()\u001b[0m\n\u001b[1;32m     33\u001b[0m \u001b[0;34m\u001b[0m\u001b[0m\n\u001b[1;32m     34\u001b[0m \u001b[0;31m# Train XGBoost model\u001b[0m\u001b[0;34m\u001b[0m\u001b[0;34m\u001b[0m\u001b[0m\n\u001b[0;32m---> 35\u001b[0;31m \u001b[0;32mfrom\u001b[0m \u001b[0mpysparkling\u001b[0m\u001b[0;34m.\u001b[0m\u001b[0mml\u001b[0m \u001b[0;32mimport\u001b[0m \u001b[0mXGBoostClassifier\u001b[0m\u001b[0;34m\u001b[0m\u001b[0;34m\u001b[0m\u001b[0m\n\u001b[0m\u001b[1;32m     36\u001b[0m \u001b[0mxgboost\u001b[0m \u001b[0;34m=\u001b[0m \u001b[0mXGBoostClassifier\u001b[0m\u001b[0;34m(\u001b[0m\u001b[0mlabelCol\u001b[0m\u001b[0;34m=\u001b[0m\u001b[0;34m\"label\"\u001b[0m\u001b[0;34m,\u001b[0m \u001b[0mfeaturesCol\u001b[0m\u001b[0;34m=\u001b[0m\u001b[0;34m\"features\"\u001b[0m\u001b[0;34m,\u001b[0m \u001b[0mmaxDepth\u001b[0m\u001b[0;34m=\u001b[0m\u001b[0;36m8\u001b[0m\u001b[0;34m,\u001b[0m \u001b[0mnumRound\u001b[0m\u001b[0;34m=\u001b[0m\u001b[0;36m10\u001b[0m\u001b[0;34m,\u001b[0m \u001b[0mobjective\u001b[0m\u001b[0;34m=\u001b[0m\u001b[0;34m\"multi:softprob\"\u001b[0m\u001b[0;34m)\u001b[0m\u001b[0;34m\u001b[0m\u001b[0;34m\u001b[0m\u001b[0m\n\u001b[1;32m     37\u001b[0m \u001b[0mxgboost_model\u001b[0m \u001b[0;34m=\u001b[0m \u001b[0mxgboost\u001b[0m\u001b[0;34m.\u001b[0m\u001b[0mfit\u001b[0m\u001b[0;34m(\u001b[0m\u001b[0mtraining\u001b[0m\u001b[0;34m)\u001b[0m\u001b[0;34m\u001b[0m\u001b[0;34m\u001b[0m\u001b[0m\n",
            "\u001b[0;31mModuleNotFoundError\u001b[0m: No module named 'pysparkling.ml'",
            "",
            "\u001b[0;31m---------------------------------------------------------------------------\u001b[0;32m\nNOTE: If your import is failing due to a missing package, you can\nmanually install dependencies using either !pip or !apt.\n\nTo view examples of installing some common dependencies, click the\n\"Open Examples\" button below.\n\u001b[0;31m---------------------------------------------------------------------------\u001b[0m\n"
          ],
          "errorDetails": {
            "actions": [
              {
                "action": "open_url",
                "actionText": "Open Examples",
                "url": "/notebooks/snippets/importing_libraries.ipynb"
              }
            ]
          }
        }
      ]
    }
  ],
  "metadata": {
    "colab": {
      "provenance": [],
      "collapsed_sections": [
        "6IVzBP_lbAqU"
      ]
    },
    "kernelspec": {
      "display_name": "Python 3",
      "name": "python3"
    },
    "language_info": {
      "name": "python"
    }
  },
  "nbformat": 4,
  "nbformat_minor": 0
}