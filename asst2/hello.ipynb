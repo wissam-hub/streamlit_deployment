{
 "cells": [
  {
   "cell_type": "code",
   "execution_count": 1,
   "metadata": {},
   "outputs": [
    {
     "name": "stderr",
     "output_type": "stream",
     "text": [
      "2022-09-23 12:20:45.875 INFO    numexpr.utils: NumExpr defaulting to 4 threads.\n"
     ]
    }
   ],
   "source": [
    "import streamlit as st\n",
    "import pandas as pd\n",
    "import numpy as np"
   ]
  },
  {
   "cell_type": "code",
   "execution_count": 9,
   "metadata": {},
   "outputs": [
    {
     "name": "stdout",
     "output_type": "stream",
     "text": [
      "          Date/Time      Lat      Lon    Base\n",
      "0  9/1/2014 0:01:00  40.2201 -74.0021  B02512\n",
      "1  9/1/2014 0:01:00  40.7500 -74.0027  B02512\n",
      "2  9/1/2014 0:03:00  40.7559 -73.9864  B02512\n",
      "3  9/1/2014 0:06:00  40.7450 -73.9889  B02512\n",
      "4  9/1/2014 0:11:00  40.8145 -73.9444  B02512\n"
     ]
    }
   ],
   "source": [
    "\n",
    "#DATE_COLUMN = 'date/time'\n",
    "DATA_URL = ('https://s3-us-west-2.amazonaws.com/'\n",
    "         'streamlit-demo-data/uber-raw-data-sep14.csv.gz')\n",
    "\n",
    "data = pd.read_csv(DATA_URL)\n",
    "\n",
    "print(data.head())"
   ]
  },
  {
   "cell_type": "code",
   "execution_count": null,
   "metadata": {},
   "outputs": [],
   "source": []
  }
 ],
 "metadata": {
  "kernelspec": {
   "display_name": "Python 3.9.12 ('base')",
   "language": "python",
   "name": "python3"
  },
  "language_info": {
   "codemirror_mode": {
    "name": "ipython",
    "version": 3
   },
   "file_extension": ".py",
   "mimetype": "text/x-python",
   "name": "python",
   "nbconvert_exporter": "python",
   "pygments_lexer": "ipython3",
   "version": "3.9.12"
  },
  "orig_nbformat": 4,
  "vscode": {
   "interpreter": {
    "hash": "18f6ccd31b566da516e2e264f06028e8ed2de31db60eb72bee3b48d8b4c61d4a"
   }
  }
 },
 "nbformat": 4,
 "nbformat_minor": 2
}
